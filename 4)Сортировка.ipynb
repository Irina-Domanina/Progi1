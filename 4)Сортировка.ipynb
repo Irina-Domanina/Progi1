{
 "cells": [
  {
   "cell_type": "code",
   "execution_count": 34,
   "metadata": {},
   "outputs": [
    {
     "name": "stdout",
     "output_type": "stream",
     "text": [
      "Bird  eats  Prawn,  Mussels,  Crab,  Limpets and  Whelk\n",
      "Crab  eats  Mussels and  Limpets\n",
      "Fish  eats  Prawn\n",
      "Limpets  eats  Seaweed\n",
      "Lobster  eats  Crab,  Mussels,  Limpets and  Whelk\n",
      "Mussels  eats  Phytoplankton and  Zooplankton\n",
      "Prawn  eats  Zooplankton\n",
      "Whelk  eats  Limpets and  Mussels\n",
      "Zooplankton  eats  Phytoplankton\n"
     ]
    }
   ],
   "source": [
    "d = {}\n",
    "with open(\"predators_prey.txt\") as file:\n",
    "    for line in file:\n",
    "        k, *v = line.strip().split('eats')\n",
    "        d.setdefault(k, []).append(v)\n",
    "\n",
    "del d[\"\"]\n",
    "d\n",
    "for k, v in d.items():\n",
    "    if len(v) > 1:\n",
    "        print (\"{} eats {} and {}\".format(k, \", \".join([x for xs in v[:-1] for x in xs]), *v[-1]))\n",
    "    else:\n",
    "        print (\"{} eats {}\".format(k, \", \".join([x for xs in d[k] for x in xs])))\n"
   ]
  }
 ],
 "metadata": {
  "kernelspec": {
   "display_name": "Python 3",
   "language": "python",
   "name": "python3"
  },
  "language_info": {
   "codemirror_mode": {
    "name": "ipython",
    "version": 3
   },
   "file_extension": ".py",
   "mimetype": "text/x-python",
   "name": "python",
   "nbconvert_exporter": "python",
   "pygments_lexer": "ipython3",
   "version": "3.7.3"
  }
 },
 "nbformat": 4,
 "nbformat_minor": 2
}
